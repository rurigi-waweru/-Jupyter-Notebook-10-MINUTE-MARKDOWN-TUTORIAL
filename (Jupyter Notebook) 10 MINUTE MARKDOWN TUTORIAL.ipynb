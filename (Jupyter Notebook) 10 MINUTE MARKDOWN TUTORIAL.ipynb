{
 "cells": [
  {
   "cell_type": "markdown",
   "id": "78522521-2766-44a0-907a-5f38a5dc184c",
   "metadata": {},
   "source": [
    "---"
   ]
  },
  {
   "cell_type": "markdown",
   "id": "0e6610da-3e0c-4fca-b945-b32cd1b73191",
   "metadata": {},
   "source": [
    "**Bold**\n",
    "# or \n",
    "__Bold__\n",
    "# Also,\n",
    "___Bold and italised___"
   ]
  },
  {
   "cell_type": "markdown",
   "id": "39328842-59e4-4cd1-9fda-1e7714a0a8b0",
   "metadata": {},
   "source": [
    "> Blockquote"
   ]
  },
  {
   "cell_type": "markdown",
   "id": "4be065df-a89a-4698-b496-ba50a5619dbd",
   "metadata": {},
   "source": [
    "```\n",
    "# code block\n",
    "print '3 backticks or'\n",
    "print 'indent 4 spaces'\n",
    "```"
   ]
  },
  {
   "cell_type": "markdown",
   "id": "2a5e4f6e-f417-4bd5-9c91-c33bdfb55d87",
   "metadata": {},
   "source": [
    "---"
   ]
  },
  {
   "cell_type": "markdown",
   "id": "e3cb6f35-bedb-41bd-a287-5b253d389e17",
   "metadata": {},
   "source": [
    "I am totally awesome.*\n",
    "\n",
    "# Making the \\* to be visible\n",
    "## from this \n",
    "* for certain very small values of awesome\n",
    "\n",
    "# To this \n",
    "\\* for certain very small values of awesome"
   ]
  },
  {
   "cell_type": "markdown",
   "id": "27954aad-5fa2-425c-a132-605dd9217891",
   "metadata": {},
   "source": [
    "---"
   ]
  },
  {
   "cell_type": "markdown",
   "id": "0a7f7ad0-1b11-4ed9-9888-8b995aaac2b3",
   "metadata": {},
   "source": [
    "# Paragraphs"
   ]
  },
  {
   "cell_type": "markdown",
   "id": "760fe71d-b789-42c0-ada6-ded8460dbb8d",
   "metadata": {},
   "source": [
    "(Jupyter Notebook) \n",
    "\n",
    "10 MINUTE MARKDOWN TUTORIAL"
   ]
  },
  {
   "cell_type": "markdown",
   "id": "335775f7-da6f-4e2e-b329-b37d7e7f8fc8",
   "metadata": {},
   "source": [
    "The sky above the port was the color of television, tuned to a dead channel. \n",
    "\n",
    "It was a bright cold day in April, and the clocks were striking thirteen."
   ]
  },
  {
   "cell_type": "markdown",
   "id": "ab711bfe-ca80-496d-91e9-dffc7cfd67ac",
   "metadata": {},
   "source": [
    "# Poems and line breaks\n",
    "\n",
    "I have eaten\\\n",
    "the plums\\\n",
    "that were in\\\n",
    "the icebox"
   ]
  },
  {
   "cell_type": "markdown",
   "id": "8efa015a-4efb-46d9-813c-fd3502b435dc",
   "metadata": {},
   "source": [
    "---"
   ]
  },
  {
   "cell_type": "markdown",
   "id": "80685143-3d1a-4959-8faa-caea1f9e80e2",
   "metadata": {},
   "source": [
    "# BlockQuotes"
   ]
  },
  {
   "cell_type": "markdown",
   "id": "5a54cb04-b592-44ea-8a1b-c33fa0b6f8e2",
   "metadata": {},
   "source": [
    "## from this\n",
    "\n",
    "My favorite Miss Manners quotes:\r\n",
    "> Allowing an unimportant mistake to pass without comment is a wonderful social grace\n",
    "\r\n",
    "> Ideological differences are no excuse for rudene"
   ]
  },
  {
   "cell_type": "markdown",
   "id": "e4bb0acd-4e06-40ae-b8a4-d83347c01bcf",
   "metadata": {},
   "source": [
    "## To this "
   ]
  },
  {
   "cell_type": "markdown",
   "id": "28040b8a-b3d4-44ff-b915-606e296e3570",
   "metadata": {},
   "source": [
    "My favorite Miss Manners quotes:\n",
    "es:\n",
    "\n",
    "> Allowing an unimportant mistake to pass without comment is a wonderful social gra> ce.\n",
    ">\n",
    "> Ideological differences are no excuse for rudeness."
   ]
  },
  {
   "cell_type": "markdown",
   "id": "f037c57e-ce25-46a9-a361-636b3224b397",
   "metadata": {},
   "source": [
    "---"
   ]
  },
  {
   "cell_type": "markdown",
   "id": "dc3c55bd-6e53-4194-b395-e8817a6bcd1f",
   "metadata": {},
   "source": [
    "# Lists"
   ]
  },
  {
   "cell_type": "markdown",
   "id": "9ca2a436-c9ef-4176-8cda-767a7e712c02",
   "metadata": {},
   "source": [
    "## Unordered List\n",
    "\n",
    "* One\n",
    "* Two\n",
    "* Three"
   ]
  },
  {
   "cell_type": "markdown",
   "id": "1504b8fe-b7c0-455c-b3b0-b12762c27e56",
   "metadata": {},
   "source": [
    "## Ordered List\n",
    "\n",
    "Four steps to better sleep:\n",
    "1) Stick to a sleep schedule\n",
    "2) Create a bedtime ritual\n",
    "3) Get comfortable\n",
    "4) Manage stress"
   ]
  },
  {
   "cell_type": "raw",
   "id": "7c7342f0-35db-4e89-98fb-dacb49cb6329",
   "metadata": {},
   "source": [
    "### or"
   ]
  },
  {
   "cell_type": "markdown",
   "id": "2412dfcc-e483-4aee-85e7-b441ef68829b",
   "metadata": {},
   "source": [
    "1986\\. What a great season. Arguably the finest season in the history of the franchise."
   ]
  },
  {
   "cell_type": "markdown",
   "id": "96c6164f-2ef4-48c8-85bc-1ca006a4d23b",
   "metadata": {},
   "source": [
    "---"
   ]
  },
  {
   "cell_type": "markdown",
   "id": "b7b2eca8-afe1-40ff-855f-b4e38c8890e4",
   "metadata": {},
   "source": [
    "# __Links__"
   ]
  },
  {
   "cell_type": "markdown",
   "id": "a6174344-ccf2-4b2a-ac5c-6ff96ccfb8f9",
   "metadata": {},
   "source": [
    "You can do anything at/\\ \n",
    "https://html5zombo.com \\\n",
    "<https://html5zombo.com>"
   ]
  },
  {
   "cell_type": "markdown",
   "id": "66b3b099-cde2-4535-bfb3-52a3a6cc803f",
   "metadata": {},
   "source": [
    "The [University of Rwanda](http://www.ur.ac.rw) was formed in 2013 through the merger of Rwanda’s seven public institutions of higher education."
   ]
  },
  {
   "cell_type": "markdown",
   "id": "a77cddad-c299-43af-9c0b-cdb53f5eb2c6",
   "metadata": {},
   "source": [
    "---"
   ]
  },
  {
   "cell_type": "markdown",
   "id": "dbc550d8-bf18-46ac-8ff3-c4e93c75de1b",
   "metadata": {},
   "source": [
    "# **Images**"
   ]
  },
  {
   "cell_type": "code",
   "execution_count": 8,
   "id": "86b2f0e3-c172-4f9f-b4c3-88144cddc9e4",
   "metadata": {},
   "outputs": [],
   "source": [
    "# ![image](https://commonmark.org/help/images/favicon.png)"
   ]
  },
  {
   "cell_type": "markdown",
   "id": "99e5b1ea-91b5-47ce-9a2d-ef86698a6198",
   "metadata": {},
   "source": [
    "![image](https://commonmark.org/help/images/favicon.png)"
   ]
  },
  {
   "cell_type": "code",
   "execution_count": 9,
   "id": "1e658f09-3b97-4b97-9a06-514e38c59519",
   "metadata": {},
   "outputs": [],
   "source": [
    "# Add alt text of Logo and title of \n",
    "# Creative Commons licensed to this image:"
   ]
  },
  {
   "cell_type": "markdown",
   "id": "0ae9e6bf-1d6c-45f8-8271-bbba4f301754",
   "metadata": {},
   "source": [
    "![logo][1]\r\n",
    "\r\n",
    "[1]: https://commonmark.org/help/images/favicon.png \"Creative Commons licensed\""
   ]
  },
  {
   "cell_type": "markdown",
   "id": "4d4eba97-1062-4d3e-9e94-e67e42ae0956",
   "metadata": {},
   "source": [
    "# Nested List"
   ]
  },
  {
   "cell_type": "markdown",
   "id": "72b96d82-0f9a-4314-ba90-c60d091402c9",
   "metadata": {},
   "source": [
    "* Fruit\n",
    "  * Apple\n",
    "  * Orange\n",
    "  * Banana\n",
    "* Dairy\n",
    "  * Milk\n",
    "  * Cheese\n",
    "\t"
   ]
  },
  {
   "cell_type": "code",
   "execution_count": null,
   "id": "0b8e656a-def5-41d0-9916-3c6ea807588e",
   "metadata": {},
   "outputs": [],
   "source": []
  }
 ],
 "metadata": {
  "kernelspec": {
   "display_name": "Python 3 (ipykernel)",
   "language": "python",
   "name": "python3"
  },
  "language_info": {
   "codemirror_mode": {
    "name": "ipython",
    "version": 3
   },
   "file_extension": ".py",
   "mimetype": "text/x-python",
   "name": "python",
   "nbconvert_exporter": "python",
   "pygments_lexer": "ipython3",
   "version": "3.11.5"
  }
 },
 "nbformat": 4,
 "nbformat_minor": 5
}
